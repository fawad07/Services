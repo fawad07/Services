{
 "cells": [
  {
   "cell_type": "code",
   "execution_count": 1,
   "id": "9c8a6357",
   "metadata": {},
   "outputs": [],
   "source": [
    "from flask import Flask, render_template, request, send_file, redirect, url_for\n",
    "import cv2\n",
    "import os\n",
    "import rembg\n",
    "import tempfile\n",
    "from pytube import YouTube\n",
    "import re"
   ]
  },
  {
   "cell_type": "code",
   "execution_count": 2,
   "id": "9a65ad42",
   "metadata": {},
   "outputs": [],
   "source": [
    "app = Flask(__name__)"
   ]
  },
  {
   "cell_type": "code",
   "execution_count": 3,
   "id": "fec9b9fa",
   "metadata": {},
   "outputs": [],
   "source": [
    "#BACKGROUND REMOVER HELPER FUNC"
   ]
  },
  {
   "cell_type": "code",
   "execution_count": 4,
   "id": "0bf59370",
   "metadata": {},
   "outputs": [],
   "source": [
    "def check_image_loaded(image_path):\n",
    "    # Check if the image was loaded successfully\n",
    "    image = cv2.imread(image_path)\n",
    "    if image is None:\n",
    "        print(f\"Error: Unable to load image '{image_path}'.\")\n",
    "        return False\n",
    "    return True\n",
    "\n",
    "def remove_background(image_path, output_path):\n",
    "    # Read the input image\n",
    "    with open(image_path, \"rb\") as f:\n",
    "        img = rembg.remove(f.read())\n",
    "\n",
    "    # Write the background removed image to the output path\n",
    "    with open(output_path, \"wb\") as f:\n",
    "        f.write(img)\n",
    "\n",
    "    print(f\"Background removed. Result saved as {output_path}\")\n"
   ]
  },
  {
   "cell_type": "code",
   "execution_count": 5,
   "id": "a8753923",
   "metadata": {},
   "outputs": [],
   "source": [
    "#YOUTUBE 2 MP3 CONVERT HELPER FUNC"
   ]
  },
  {
   "cell_type": "code",
   "execution_count": 6,
   "id": "7068ebb6",
   "metadata": {},
   "outputs": [],
   "source": [
    "def download_progress(stream, chunk, bytes_remaining):\n",
    "    # Calculate the percentage of downloaded bytes\n",
    "    bytes_downloaded = stream.filesize - bytes_remaining\n",
    "    percent = (bytes_downloaded / stream.filesize) * 100\n",
    "    print(f\"\\r{percent:.1f}% downloaded\", end=\"\", flush=True)\n",
    "\n",
    "def download_youtube_audio(video_url):\n",
    "    yt = YouTube(video_url)\n",
    "    stream = yt.streams.filter(only_audio=True).first()\n",
    "    stream.download(output_path='.')\n",
    "    stream.register_on_progress_callback(download_progress)\n",
    "    print(\"\\n\")  # Add a newline after download completion\n",
    "\n",
    "def is_youtube_url(url):\n",
    "    # Regular expression pattern for matching YouTube video URLs\n",
    "    youtube_pattern = r'^(https?://)?(www\\.)?youtube\\.com/'\n",
    "    # Check if the URL matches the pattern\n",
    "    if re.match(youtube_pattern, url):\n",
    "        return True\n",
    "    else:\n",
    "        return False"
   ]
  },
  {
   "cell_type": "code",
   "execution_count": 7,
   "id": "8d915117",
   "metadata": {},
   "outputs": [],
   "source": [
    "@app.route('/')\n",
    "def home():\n",
    "    return render_template('index.html')\n",
    "\n",
    "\n",
    "@app.route('/upload', methods=['POST'])\n",
    "def upload():\n",
    "    if 'file' not in request.files:\n",
    "        return 'No file part'\n",
    "    file = request.files['file']\n",
    "    if file.filename == '':\n",
    "        return 'No selected file'\n",
    "    # Check if the file is a valid image\n",
    "    filename = file.filename\n",
    "    allowed_extensions = {'png', 'jpg', 'jpeg', 'gif'}\n",
    "    if '.' not in filename or filename.split('.')[-1].lower() not in allowed_extensions:\n",
    "        return 'Invalid file format. Only PNG, JPG, JPEG, and GIF files are allowed.'\n",
    "    # Save the uploaded image to a temporary location\n",
    "    upload_folder = 'uploads'\n",
    "    os.makedirs(upload_folder, exist_ok=True)\n",
    "    upload_path = os.path.join(upload_folder, filename)\n",
    "    file.save(upload_path)\n",
    "    # Process the uploaded image to remove background\n",
    "    output_folder = 'background_removal_result'\n",
    "    os.makedirs(output_folder, exist_ok=True)\n",
    "    output_path = os.path.join(output_folder, f\"{os.path.splitext(filename)[0]}_background_removed.png\")\n",
    "    # Check if the image was loaded successfully\n",
    "    is_loaded = check_image_loaded(upload_path)\n",
    "    if is_loaded:\n",
    "        # Remove background and save the result\n",
    "        remove_background(upload_path, output_path)\n",
    "        # Return the background-removed image for download\n",
    "        return send_file(output_path, as_attachment=True)\n",
    "    else:\n",
    "        return 'Error processing uploaded image'\n",
    "    \n",
    "\n",
    "@app.route('/convert', methods=['POST'])\n",
    "def convert():\n",
    "    youtube_url = request.form.get('youtube_url')\n",
    "     # Check if youtube_url is empty or not provided\n",
    "    if not youtube_url:\n",
    "        return 'Error: YouTube URL is missing or empty'\n",
    "    if is_youtube_url(youtube_url):\n",
    "        print (\"VALID\")\n",
    "    else:\n",
    "        print(\"Invalad url\")\n",
    "    \n",
    "    # Process the YouTube URL, e.g., perform conversion to MP3\n",
    "    # Add your logic here based on what you want to do with the URL\n",
    "    # For now, let's just print it\n",
    "    print(f\"Received YouTube URL: {youtube_url}\")\n",
    "    # Redirect back to the homepage or another page after processing\n",
    "    return \"Under construction\"        #redirect(url_for('index.html'))\n"
   ]
  },
  {
   "cell_type": "code",
   "execution_count": null,
   "id": "01a82cc4",
   "metadata": {},
   "outputs": [
    {
     "name": "stdout",
     "output_type": "stream",
     "text": [
      " * Serving Flask app \"__main__\" (lazy loading)\n",
      " * Environment: production\n",
      "   WARNING: This is a development server. Do not use it in a production deployment.\n",
      "   Use a production WSGI server instead.\n",
      " * Debug mode: on\n"
     ]
    },
    {
     "name": "stderr",
     "output_type": "stream",
     "text": [
      " * Running on http://127.0.0.1:5000/ (Press CTRL+C to quit)\n",
      "127.0.0.1 - - [15/Jun/2024 10:26:44] \"\u001b[37mGET / HTTP/1.1\u001b[0m\" 200 -\n",
      "127.0.0.1 - - [15/Jun/2024 10:27:09] \"\u001b[37mPOST /convert HTTP/1.1\u001b[0m\" 200 -\n"
     ]
    },
    {
     "name": "stdout",
     "output_type": "stream",
     "text": [
      "Invalad url\n",
      "Received YouTube URL: https://www.google.com\n"
     ]
    }
   ],
   "source": [
    "if __name__ ==\"__main__\":\n",
    "    #app.run()\n",
    "    app.run(debug=True, port=5000, use_reloader=False) # Set port to 5000\n",
    "    \n",
    "    #https://www.youtube.com/watch?v=SF-Q9ucn9ko <-- Example url"
   ]
  },
  {
   "cell_type": "code",
   "execution_count": null,
   "id": "b160b7fb",
   "metadata": {},
   "outputs": [],
   "source": []
  }
 ],
 "metadata": {
  "kernelspec": {
   "display_name": "Python 3",
   "language": "python",
   "name": "python3"
  },
  "language_info": {
   "codemirror_mode": {
    "name": "ipython",
    "version": 3
   },
   "file_extension": ".py",
   "mimetype": "text/x-python",
   "name": "python",
   "nbconvert_exporter": "python",
   "pygments_lexer": "ipython3",
   "version": "3.8.8"
  }
 },
 "nbformat": 4,
 "nbformat_minor": 5
}
